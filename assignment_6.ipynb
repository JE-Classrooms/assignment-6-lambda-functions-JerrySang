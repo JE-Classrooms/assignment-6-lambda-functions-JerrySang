{
 "cells": [
  {
   "cell_type": "markdown",
   "metadata": {},
   "source": [
    "# Assignment 6"
   ]
  },
  {
   "cell_type": "markdown",
   "metadata": {},
   "source": [
    "**Exercise 1:**  write a Python program to find palindromes in a given list of strings using Lambda.\n",
    "\n",
    "Apply the Python program for the following two lists:\n",
    "\n",
    "**Input 1:** ```['civic', 'Lambda', 'Python', 'QTM', 'Java', 'ana']```\n",
    "\n",
    "**Output 1:** ```['civic', 'ana']```\n",
    "\n",
    "**Input 2:** ```['nurses run', 'Nurses Run', 'madam', 'Stats', 'World', 'what']```\n",
    "\n",
    "**Output 2:** ```['nurses run', 'Nurses Run', 'madam', 'Stats']```"
   ]
  },
  {
   "cell_type": "code",
   "execution_count": 44,
   "metadata": {},
   "outputs": [
    {
     "name": "stdout",
     "output_type": "stream",
     "text": [
      "['civic', 'ana']\n"
     ]
    }
   ],
   "source": [
    "input1 = ['civic', 'Lambda', 'Python', 'QTM', 'Java', 'ana']\n",
    "result1 = list(filter(lambda x: (x == ''.join(reversed(x))), input1)) \n",
    "print(result1) "
   ]
  },
  {
   "cell_type": "code",
   "execution_count": 43,
   "metadata": {},
   "outputs": [
    {
     "name": "stdout",
     "output_type": "stream",
     "text": [
      "['nurses run', 'Nurses Run', 'madam', 'Stats']\n"
     ]
    }
   ],
   "source": [
    "input2 = ['nurses run', 'Nurses Run', 'madam', 'Stats', 'World', 'what']\n",
    "input3 =[]\n",
    "position_list = []\n",
    "final_answer = []\n",
    "for b in input2:\n",
    "    c = b.replace(' ','')\n",
    "    d = c.lower()\n",
    "    input3.append(d)\n",
    "result2 = list(filter(lambda x: (x == ''.join(reversed(x))), input3)) \n",
    "for i in result2:\n",
    "    position = input3.index(i)\n",
    "    position_list.append(position)\n",
    "    input3[position] = ('used')\n",
    "for c in position_list:\n",
    "    d = input2[c]\n",
    "    final_answer.append(d)\n",
    "print(final_answer)\n",
    "    "
   ]
  },
  {
   "cell_type": "markdown",
   "metadata": {},
   "source": [
    "**Exercise 2:** write a Python program to calculate the sum of the positive and negative numbers of a given list of numbers using lambda function.\n",
    "\n",
    "**Output:**\n",
    "\n",
    "Original list: [2, 4, -6, -9, 11, -12, 14, -5, 17]\n",
    "\n",
    "Sum of the positive numbers:  -32\n",
    "\n",
    "Sum of the negative numbers:  48"
   ]
  },
  {
   "cell_type": "code",
   "execution_count": 3,
   "metadata": {},
   "outputs": [
    {
     "name": "stdout",
     "output_type": "stream",
     "text": [
      "[2, 4, -6, -9, 11, -12, 14, -5, 17]\n",
      "Sum of the positive numbers: 48\n",
      "Sum of the negative numbers: -32\n"
     ]
    }
   ],
   "source": [
    "original_list = [2, 4, -6, -9, 11, -12, 14, -5, 17]\n",
    "int_list = []\n",
    "for i in original_list:\n",
    "    int(i)\n",
    "    int_list.append(i)\n",
    "print(int_list)\n",
    "positive = list(filter(lambda x:x>0, int_list))\n",
    "\n",
    "negative = list(filter(lambda x:x<0, int_list))\n",
    "print('Sum of the positive numbers:',sum(positive))\n",
    "print('Sum of the negative numbers:',sum(negative))"
   ]
  },
  {
   "cell_type": "markdown",
   "metadata": {},
   "source": [
    "**Exercise 3:** write a Python program to find the maximum, minimum and average values in a given heterogeneous list using lambda.\n",
    "\n",
    "**Output:**\n",
    "\n",
    "Original list: ['I', 'love' 3, 2, 4, 5, 'Python', 12]\n",
    "\n",
    "Maximum value: 12\n",
    "\n",
    "Minimum value: 2\n",
    "\n",
    "Average value: 5.2"
   ]
  },
  {
   "cell_type": "code",
   "execution_count": 11,
   "metadata": {},
   "outputs": [
    {
     "name": "stdout",
     "output_type": "stream",
     "text": [
      "Maximum value: 12\n",
      "Minimum value: 2\n",
      "Average value: 5.2\n"
     ]
    }
   ],
   "source": [
    "Original_list =  ['I', 'love', 3, 2, 4, 5, 'Python', 12]\n",
    "int_list = list(filter(lambda x:type(x)!=str, Original_list))\n",
    "print('Maximum value:',max(int_list))\n",
    "print('Minimum value:',min(int_list))\n",
    "print('Average value:',sum(int_list)/len(int_list))"
   ]
  }
 ],
 "metadata": {
  "kernelspec": {
   "display_name": "conda_amazonei_mxnet_p36",
   "language": "python",
   "name": "conda_amazonei_mxnet_p36"
  },
  "language_info": {
   "codemirror_mode": {
    "name": "ipython",
    "version": 3
   },
   "file_extension": ".py",
   "mimetype": "text/x-python",
   "name": "python",
   "nbconvert_exporter": "python",
   "pygments_lexer": "ipython3",
   "version": "3.6.13"
  },
  "vscode": {
   "interpreter": {
    "hash": "9fbb33e86ca55080a202fed700efde3fb4ffe3f46131e5b52201b9ba06ce5f72"
   }
  }
 },
 "nbformat": 4,
 "nbformat_minor": 4
}
